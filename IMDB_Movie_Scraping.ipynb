{
  "nbformat": 4,
  "nbformat_minor": 0,
  "metadata": {
    "colab": {
      "provenance": [],
      "authorship_tag": "ABX9TyOAcZqkhB35BqAhbh7EuVyv",
      "include_colab_link": true
    },
    "kernelspec": {
      "name": "python3",
      "display_name": "Python 3"
    },
    "language_info": {
      "name": "python"
    }
  },
  "cells": [
    {
      "cell_type": "markdown",
      "metadata": {
        "id": "view-in-github",
        "colab_type": "text"
      },
      "source": [
        "<a href=\"https://colab.research.google.com/github/anilsolanki2645/WebScarping/blob/main/IMDB_Movie_Scraping.ipynb\" target=\"_parent\"><img src=\"https://colab.research.google.com/assets/colab-badge.svg\" alt=\"Open In Colab\"/></a>"
      ]
    },
    {
      "cell_type": "markdown",
      "source": [
        "## Scraping Multiples pages of IMDB at a time to fetch top 1000 movies data."
      ],
      "metadata": {
        "id": "7Ufx9aFeitr7"
      }
    },
    {
      "cell_type": "code",
      "source": [
        "from google.colab import drive\n",
        "drive.mount('/content/drive')"
      ],
      "metadata": {
        "colab": {
          "base_uri": "https://localhost:8080/"
        },
        "id": "bJUGl_OLyOgY",
        "outputId": "00b86f95-2f21-45d5-9be8-0aec21e3cb5e"
      },
      "execution_count": 1,
      "outputs": [
        {
          "output_type": "stream",
          "name": "stdout",
          "text": [
            "Mounted at /content/drive\n"
          ]
        }
      ]
    },
    {
      "cell_type": "markdown",
      "source": [
        "* importing all the needed libraries"
      ],
      "metadata": {
        "id": "aRCs8hR9jPro"
      }
    },
    {
      "cell_type": "code",
      "source": [
        "import pandas as pd\n",
        "import numpy as np\n",
        "import requests\n",
        "from bs4 import BeautifulSoup\n",
        "from time import sleep\n",
        "from random import randint\n",
        "import openpyxl\n",
        "import matplotlib.pyplot as plt"
      ],
      "metadata": {
        "id": "KPcCRHux4NTx"
      },
      "execution_count": 11,
      "outputs": []
    },
    {
      "cell_type": "markdown",
      "source": [
        "* Declaring the variable of Headers"
      ],
      "metadata": {
        "id": "5hQ0WhC8jcw0"
      }
    },
    {
      "cell_type": "code",
      "source": [
        "#Declaring the headers\n",
        "headers = {\"Accept-Language\": \"en-US,en;q=0.5\"}\n",
        "#declaring the list of empty variables, So that we can append the data overall\n",
        "\n",
        "movie_name = []\n",
        "year = []\n",
        "time=[]\n",
        "rating=[]\n",
        "metascore =[]\n",
        "votes = []\n",
        "gross = []\n",
        "description = []"
      ],
      "metadata": {
        "id": "BRy5IWQB4X3v"
      },
      "execution_count": 12,
      "outputs": []
    },
    {
      "cell_type": "code",
      "source": [
        "#creating an array of values and passing it in the url for dynamic webpages\n",
        "pages = np.arange(1,1000,100)"
      ],
      "metadata": {
        "id": "S98lGuRg4csC"
      },
      "execution_count": 13,
      "outputs": []
    },
    {
      "cell_type": "code",
      "source": [
        "\"\"\"excel = openpyxl.Workbook()\n",
        "print(excel.sheetnames)\n",
        "sheet = excel.active\n",
        "sheet.title = 'Top Rated Movies'\n",
        "print(excel.sheetnames)\"\"\""
      ],
      "metadata": {
        "id": "leA5Ot0Q95dj"
      },
      "execution_count": null,
      "outputs": []
    },
    {
      "cell_type": "code",
      "source": [
        "\"\"\"try:\n",
        "    #sheet.append([movie_name, year, time, rating, metascore, votes, gross, description])\n",
        "    sheet.append(movie_name)\n",
        "    print(\"success\")\n",
        "except ValueError:\n",
        "    print(\"Handling the error case\")\"\"\"\n"
      ],
      "metadata": {
        "id": "-6-7L3O5C1Sb"
      },
      "execution_count": null,
      "outputs": []
    },
    {
      "cell_type": "code",
      "source": [
        "#print(movie_name)"
      ],
      "metadata": {
        "id": "oBLDh4EoSvry"
      },
      "execution_count": 14,
      "outputs": []
    },
    {
      "cell_type": "code",
      "source": [],
      "metadata": {
        "id": "9ZGS410ESqRD"
      },
      "execution_count": null,
      "outputs": []
    },
    {
      "cell_type": "markdown",
      "source": [
        "### collect and parse the information using\n",
        "* requests lib and BeautifulSoup lib\n",
        "* Store the information in variable\n",
        "* and append in a list"
      ],
      "metadata": {
        "id": "s-HFZ_nRyDsh"
      }
    },
    {
      "cell_type": "code",
      "source": [
        "#the whole core of the script\n",
        "for page in pages:\n",
        "    page = requests.get(\"https://www.imdb.com/search/title/?groups=top_1000&sort=user_rating,desc&count=100&start=\"+str(page)+\"&ref_=adv_nxt\")\n",
        "    soup = BeautifulSoup(page.text, 'html.parser')\n",
        "    movie_data = soup.findAll('div', {'class': 'lister-item mode-advanced'})\n",
        "    sleep(randint(2,8))\n",
        "    for store in movie_data:\n",
        "        name = store.h3.a.text\n",
        "        movie_name.append(name)\n",
        "\n",
        "        year_of_release = store.h3.find('span', class_ = \"lister-item-year text-muted unbold\").text\n",
        "        year.append(year_of_release)\n",
        "\n",
        "        runtime = store.p.find(\"span\", class_ = 'runtime').text\n",
        "        time.append(runtime)\n",
        "\n",
        "        rate = store.find('div', class_ = \"inline-block ratings-imdb-rating\").text.replace('\\n', '')\n",
        "        rating.append(rate)\n",
        "\n",
        "        meta = store.find('span', class_ = \"metascore\").text if store.find('span', class_ = \"metascore\") else \"*****\"\n",
        "        metascore.append(meta)\n",
        "\n",
        "\n",
        "        value = store.find_all('span', attrs = {'name': \"nv\"})\n",
        "\n",
        "        vote = value[0].text\n",
        "        votes.append(vote)\n",
        "\n",
        "        grosses = value[1].text if len(value)>1 else '%^%^%^'\n",
        "        gross.append(grosses)\n",
        "\n",
        "        # Description of the Movies -- Not explained in the Video, But you will figure it out.\n",
        "        describe = store.find_all('p', class_ = 'text-muted')\n",
        "        description_ = describe[1].text.replace('\\n', '') if len(describe) >1 else '*****'\n",
        "        description.append(description_)\n",
        "\n"
      ],
      "metadata": {
        "id": "HFzzx-Yp4iaI"
      },
      "execution_count": 15,
      "outputs": []
    },
    {
      "cell_type": "markdown",
      "source": [
        "* creating a DataFrame"
      ],
      "metadata": {
        "id": "1eYasPNHzFhk"
      }
    },
    {
      "cell_type": "code",
      "source": [
        "#creating a dataframe\n",
        "movie_list = pd.DataFrame({ \"Movie Name\": movie_name, \"Year of Release\" : year, \"Watch Time\": time,\"Movie Rating\": rating, \"Meatscore of movie\": metascore, \"Votes\" : votes, \"Gross\": gross, \"Description\": description  })\n",
        "movie_list.head(11)"
      ],
      "metadata": {
        "id": "y41JzpPc4t6z"
      },
      "execution_count": null,
      "outputs": []
    },
    {
      "cell_type": "code",
      "source": [
        "movie_list[-3:]"
      ],
      "metadata": {
        "id": "6U7Vi-nR5Ekj"
      },
      "execution_count": null,
      "outputs": []
    },
    {
      "cell_type": "code",
      "source": [
        "type(movie_list)"
      ],
      "metadata": {
        "id": "O7MVcD1S5fm1"
      },
      "execution_count": null,
      "outputs": []
    },
    {
      "cell_type": "code",
      "source": [],
      "metadata": {
        "id": "4zA_zrxM7Ejy"
      },
      "execution_count": null,
      "outputs": []
    },
    {
      "cell_type": "markdown",
      "source": [
        "* convert dataframe to Excel\n",
        "* Create a Excel file"
      ],
      "metadata": {
        "id": "QKKTWWRMzLQI"
      }
    },
    {
      "cell_type": "code",
      "source": [
        "movie_list.to_excel('IMDB_Movie_Ratings.xlsx', header=True, index=False)"
      ],
      "metadata": {
        "id": "gVEgBTKW9W26"
      },
      "execution_count": 10,
      "outputs": []
    },
    {
      "cell_type": "code",
      "source": [],
      "metadata": {
        "id": "i0nKnntFZEjn"
      },
      "execution_count": 15,
      "outputs": []
    }
  ]
}